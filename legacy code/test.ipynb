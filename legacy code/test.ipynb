{
 "metadata": {
  "language_info": {
   "codemirror_mode": {
    "name": "ipython",
    "version": 3
   },
   "file_extension": ".py",
   "mimetype": "text/x-python",
   "name": "python",
   "nbconvert_exporter": "python",
   "pygments_lexer": "ipython3",
   "version": "3.8.5"
  },
  "orig_nbformat": 2,
  "kernelspec": {
   "name": "python385jvsc74a57bd04af209406112437305cc6779376bf0e5f0577771d14151e7fd4f38db0fe15105",
   "display_name": "Python 3.8.5 64-bit ('base': conda)"
  }
 },
 "nbformat": 4,
 "nbformat_minor": 2,
 "cells": [
  {
   "cell_type": "code",
   "execution_count": 1,
   "metadata": {},
   "outputs": [],
   "source": [
    "import torch\n",
    "import torch.nn as nn\n",
    "import torch.optim as optim\n",
    "from net import SpatialEncoder\n",
    "from utils import *\n",
    "import tqdm\n",
    "import gc\n",
    "from pathlib import Path\n",
    "import numpy as np"
   ]
  },
  {
   "cell_type": "code",
   "execution_count": 2,
   "metadata": {},
   "outputs": [],
   "source": [
    "model = SpatialEncoder()\n",
    "optimizer = optim.Adam(model.parameters())"
   ]
  },
  {
   "cell_type": "code",
   "execution_count": 3,
   "metadata": {},
   "outputs": [],
   "source": [
    "checkpoint = torch.load(r'C:\\Users\\cdami\\Documents\\Python Scripts\\Spatiotemporal-Autoencoder-Anomaly-Detection\\checkpoints\\1_model.pt')\n",
    "model.load_state_dict(checkpoint['model_state_dict'])\n",
    "optimizer.load_state_dict(checkpoint['optimizer_state_dict'])\n",
    "epoch = checkpoint['epoch']\n",
    "loss_test = checkpoint['loss_test']\n",
    "loss_train = checkpoint['loss_train']"
   ]
  },
  {
   "cell_type": "code",
   "execution_count": 4,
   "metadata": {},
   "outputs": [],
   "source": [
    "train_path = Path('Avenue Dataset/training_vol')\n",
    "test_path = Path('Avenue Dataset/testing_vol')"
   ]
  },
  {
   "cell_type": "code",
   "execution_count": 5,
   "metadata": {},
   "outputs": [],
   "source": [
    "set_test = FileDataset(train_path, test_path, train=False)\n",
    "test_data_loader = torch.utils.data.DataLoader(set_test, batch_size=1, shuffle=True)"
   ]
  },
  {
   "cell_type": "code",
   "execution_count": 6,
   "metadata": {},
   "outputs": [
    {
     "output_type": "execute_result",
     "data": {
      "text/plain": [
       "SpatialEncoder(\n",
       "  (conv1): Conv3d(1, 128, kernel_size=(1, 11, 11), stride=(1, 4, 4))\n",
       "  (conv2): Conv3d(128, 64, kernel_size=(1, 5, 5), stride=(1, 2, 2))\n",
       "  (convlstm): ConvLSTM(\n",
       "    (cell_list): ModuleList(\n",
       "      (0): ConvLSTMCell(\n",
       "        (conv): Conv2d(128, 256, kernel_size=(3, 3), stride=(1, 1), padding=(1, 1))\n",
       "      )\n",
       "      (1): ConvLSTMCell(\n",
       "        (conv): Conv2d(96, 128, kernel_size=(3, 3), stride=(1, 1), padding=(1, 1))\n",
       "      )\n",
       "      (2): ConvLSTMCell(\n",
       "        (conv): Conv2d(96, 256, kernel_size=(3, 3), stride=(1, 1), padding=(1, 1))\n",
       "      )\n",
       "    )\n",
       "  )\n",
       "  (convt1): ConvTranspose3d(64, 128, kernel_size=(1, 5, 5), stride=(1, 2, 2))\n",
       "  (convt2): ConvTranspose3d(128, 1, kernel_size=(1, 11, 11), stride=(1, 4, 4))\n",
       ")"
      ]
     },
     "metadata": {},
     "execution_count": 6
    }
   ],
   "source": [
    "device = torch.device('cuda')\n",
    "# model = model.to(device)\n",
    "model.eval()"
   ]
  },
  {
   "cell_type": "code",
   "execution_count": 7,
   "metadata": {},
   "outputs": [
    {
     "output_type": "stream",
     "name": "stdout",
     "text": [
      "Generating strides for Avenue Dataset\\testing_vol\\vol20.mat\n",
      "Generating strides for Avenue Dataset\\testing_vol\\vol20.mat\n",
      "Generating strides for Avenue Dataset\\testing_vol\\vol20.mat\n"
     ]
    }
   ],
   "source": [
    "first_data = next(iter(test_data_loader))"
   ]
  },
  {
   "cell_type": "code",
   "execution_count": 8,
   "metadata": {},
   "outputs": [
    {
     "output_type": "execute_result",
     "data": {
      "text/plain": [
       "torch.Size([1, 483, 1, 10, 227, 227])"
      ]
     },
     "metadata": {},
     "execution_count": 8
    }
   ],
   "source": [
    "first_data.shape"
   ]
  },
  {
   "cell_type": "code",
   "execution_count": 9,
   "metadata": {},
   "outputs": [],
   "source": [
    "anomaly_set = AnomalyDataset(first_data[0])"
   ]
  },
  {
   "cell_type": "code",
   "execution_count": 10,
   "metadata": {},
   "outputs": [],
   "source": [
    "test_loader = torch.utils.data.DataLoader(anomaly_set, batch_size=12, shuffle=False)"
   ]
  },
  {
   "cell_type": "code",
   "execution_count": 34,
   "metadata": {},
   "outputs": [],
   "source": []
  },
  {
   "cell_type": "code",
   "execution_count": 11,
   "metadata": {},
   "outputs": [],
   "source": [
    "device_cpu = torch.device('cpu')"
   ]
  },
  {
   "cell_type": "code",
   "execution_count": 12,
   "metadata": {},
   "outputs": [
    {
     "output_type": "stream",
     "name": "stderr",
     "text": [
      "  0%|          | 0/33 [00:00<?, ?it/s]C:\\Users\\cdami\\Anaconda3\\lib\\site-packages\\torch\\nn\\functional.py:1628: UserWarning: nn.functional.tanh is deprecated. Use torch.tanh instead.\n",
      "  warnings.warn(\"nn.functional.tanh is deprecated. Use torch.tanh instead.\")\n",
      "C:\\Users\\cdami\\Anaconda3\\lib\\site-packages\\torch\\nn\\functional.py:1639: UserWarning: nn.functional.sigmoid is deprecated. Use torch.sigmoid instead.\n",
      "  warnings.warn(\"nn.functional.sigmoid is deprecated. Use torch.sigmoid instead.\")\n",
      "  3%|▎         | 1/33 [00:02<01:33,  2.93s/it]<class 'numpy.ndarray'>\n",
      "  6%|▌         | 2/33 [00:05<01:31,  2.95s/it]<class 'numpy.ndarray'>\n",
      "  9%|▉         | 3/33 [00:09<01:30,  3.01s/it]<class 'numpy.ndarray'>\n",
      " 12%|█▏        | 4/33 [00:11<01:26,  2.97s/it]<class 'numpy.ndarray'>\n",
      " 15%|█▌        | 5/33 [00:14<01:22,  2.95s/it]<class 'numpy.ndarray'>\n",
      " 18%|█▊        | 6/33 [00:17<01:18,  2.91s/it]<class 'numpy.ndarray'>\n",
      " 21%|██        | 7/33 [00:20<01:15,  2.88s/it]<class 'numpy.ndarray'>\n",
      " 24%|██▍       | 8/33 [00:23<01:12,  2.92s/it]<class 'numpy.ndarray'>\n",
      " 27%|██▋       | 9/33 [00:26<01:10,  2.95s/it]<class 'numpy.ndarray'>\n",
      " 30%|███       | 10/33 [00:29<01:08,  2.96s/it]<class 'numpy.ndarray'>\n",
      " 33%|███▎      | 11/33 [00:32<01:03,  2.90s/it]<class 'numpy.ndarray'>\n",
      " 36%|███▋      | 12/33 [00:35<01:01,  2.92s/it]<class 'numpy.ndarray'>\n",
      " 39%|███▉      | 13/33 [00:38<00:58,  2.95s/it]<class 'numpy.ndarray'>\n",
      " 42%|████▏     | 14/33 [00:41<00:56,  2.96s/it]<class 'numpy.ndarray'>\n",
      " 45%|████▌     | 15/33 [00:44<00:53,  2.97s/it]<class 'numpy.ndarray'>\n",
      " 48%|████▊     | 16/33 [00:47<00:50,  2.99s/it]<class 'numpy.ndarray'>\n",
      " 52%|█████▏    | 17/33 [00:50<00:48,  3.00s/it]<class 'numpy.ndarray'>\n",
      " 55%|█████▍    | 18/33 [00:53<00:44,  2.96s/it]<class 'numpy.ndarray'>\n",
      " 58%|█████▊    | 19/33 [00:56<00:41,  2.93s/it]<class 'numpy.ndarray'>\n",
      " 61%|██████    | 20/33 [00:58<00:38,  2.94s/it]<class 'numpy.ndarray'>\n",
      " 64%|██████▎   | 21/33 [01:01<00:35,  2.95s/it]<class 'numpy.ndarray'>\n",
      " 67%|██████▋   | 22/33 [01:04<00:32,  2.96s/it]<class 'numpy.ndarray'>\n",
      " 70%|██████▉   | 23/33 [01:07<00:29,  2.97s/it]<class 'numpy.ndarray'>\n",
      " 73%|███████▎  | 24/33 [01:10<00:26,  2.96s/it]<class 'numpy.ndarray'>\n",
      " 76%|███████▌  | 25/33 [01:13<00:23,  2.96s/it]<class 'numpy.ndarray'>\n",
      " 79%|███████▉  | 26/33 [01:16<00:20,  2.98s/it]<class 'numpy.ndarray'>\n",
      " 82%|████████▏ | 27/33 [01:19<00:17,  2.99s/it]<class 'numpy.ndarray'>\n",
      " 85%|████████▍ | 28/33 [01:22<00:14,  2.99s/it]<class 'numpy.ndarray'>\n",
      " 88%|████████▊ | 29/33 [01:25<00:11,  2.99s/it]<class 'numpy.ndarray'>\n",
      " 91%|█████████ | 30/33 [01:28<00:08,  2.97s/it]<class 'numpy.ndarray'>\n",
      " 94%|█████████▍| 31/33 [01:31<00:05,  2.95s/it]<class 'numpy.ndarray'>\n",
      " 97%|█████████▋| 32/33 [01:34<00:02,  2.96s/it]<class 'numpy.ndarray'>\n",
      "100%|██████████| 33/33 [01:35<00:00,  2.88s/it]<class 'numpy.ndarray'>\n",
      "\n"
     ]
    }
   ],
   "source": [
    "outputs = []\n",
    "model.eval()\n",
    "for x in tqdm.tqdm(test_loader):\n",
    "    # x = x.to(device)\n",
    "    out = model(x)\n",
    "    out = out.detach().numpy()\n",
    "    print(type(out))\n",
    "    # out = model.to(device_cpu)\n",
    "    outputs.append(out)"
   ]
  },
  {
   "cell_type": "code",
   "execution_count": 13,
   "metadata": {},
   "outputs": [
    {
     "output_type": "stream",
     "name": "stderr",
     "text": [
      "C:\\Users\\cdami\\Anaconda3\\lib\\site-packages\\numpy\\core\\_asarray.py:83: VisibleDeprecationWarning: Creating an ndarray from ragged nested sequences (which is a list-or-tuple of lists-or-tuples-or ndarrays with different lengths or shapes) is deprecated. If you meant to do this, you must specify 'dtype=object' when creating the ndarray\n  return array(a, dtype, copy=False, order=order)\n"
     ]
    }
   ],
   "source": [
    "outputs = np.asarray(outputs)"
   ]
  },
  {
   "cell_type": "code",
   "execution_count": 14,
   "metadata": {},
   "outputs": [],
   "source": [
    "outputs = outputs.squeeze()"
   ]
  },
  {
   "cell_type": "code",
   "execution_count": 22,
   "metadata": {},
   "outputs": [],
   "source": [
    "outputs = list(outputs)"
   ]
  },
  {
   "cell_type": "code",
   "execution_count": 23,
   "metadata": {},
   "outputs": [],
   "source": [
    "outputs = [torch.Tensor(x) for x in outputs]"
   ]
  },
  {
   "cell_type": "code",
   "execution_count": 28,
   "metadata": {},
   "outputs": [],
   "source": [
    "outputs = torch.cat(outputs)"
   ]
  },
  {
   "cell_type": "code",
   "execution_count": 30,
   "metadata": {},
   "outputs": [
    {
     "output_type": "execute_result",
     "data": {
      "text/plain": [
       "torch.Size([386, 1, 10, 227, 227])"
      ]
     },
     "metadata": {},
     "execution_count": 30
    }
   ],
   "source": [
    "outputs.shape"
   ]
  },
  {
   "cell_type": "code",
   "execution_count": 46,
   "metadata": {},
   "outputs": [
    {
     "output_type": "execute_result",
     "data": {
      "text/plain": [
       "(96, 10, 227, 227)"
      ]
     },
     "metadata": {},
     "execution_count": 46
    }
   ],
   "source": [
    "outputs.shape"
   ]
  },
  {
   "cell_type": "code",
   "execution_count": 31,
   "metadata": {},
   "outputs": [
    {
     "output_type": "stream",
     "name": "stderr",
     "text": [
      "100%|██████████| 33/33 [00:00<00:00, 170.16it/s]\n"
     ]
    }
   ],
   "source": [
    "inputs = []\n",
    "for x in tqdm.tqdm(test_loader):\n",
    "    inputs.append(x)"
   ]
  },
  {
   "cell_type": "code",
   "execution_count": 34,
   "metadata": {},
   "outputs": [],
   "source": [
    "inputs = torch.cat(inputs)"
   ]
  },
  {
   "cell_type": "code",
   "execution_count": 35,
   "metadata": {},
   "outputs": [],
   "source": [
    "inputs = inputs.squeeze()\n",
    "outputs = outputs.squeeze()"
   ]
  },
  {
   "cell_type": "code",
   "execution_count": 36,
   "metadata": {},
   "outputs": [
    {
     "output_type": "execute_result",
     "data": {
      "text/plain": [
       "(torch.Size([386, 10, 227, 227]), torch.Size([386, 10, 227, 227]))"
      ]
     },
     "metadata": {},
     "execution_count": 36
    }
   ],
   "source": [
    "inputs.shape, outputs.shape"
   ]
  },
  {
   "cell_type": "code",
   "execution_count": 42,
   "metadata": {},
   "outputs": [],
   "source": [
    "def calculate_abnormality_score(input, output):\n",
    "    input = torch.flatten(input)\n",
    "    output = torch.flatten(output)\n",
    "    return torch.sqrt(torch.sum(torch.square(input - output)))"
   ]
  },
  {
   "cell_type": "code",
   "execution_count": 43,
   "metadata": {},
   "outputs": [
    {
     "output_type": "stream",
     "name": "stderr",
     "text": [
      "100%|██████████| 386/386 [00:00<00:00, 632.10it/s]\n"
     ]
    }
   ],
   "source": [
    "abnormality_scores = []\n",
    "for i in tqdm.tqdm(range(len(inputs))):\n",
    "    abnormality_scores.append(calculate_regularity_score(inputs[i], outputs[i]))\n",
    "\n",
    "abnormality_scores = np.array(abnormality_scores)"
   ]
  },
  {
   "cell_type": "code",
   "execution_count": 44,
   "metadata": {},
   "outputs": [],
   "source": [
    "minimum, maximum = min(abnormality_scores), max(abnormality_scores)\n",
    "abnormality_scores = (abnormality_scores - minimum) / maximum\n"
   ]
  },
  {
   "cell_type": "code",
   "execution_count": 45,
   "metadata": {},
   "outputs": [],
   "source": [
    "regularity_scores = 1 - abnormality_scores"
   ]
  },
  {
   "cell_type": "code",
   "execution_count": 46,
   "metadata": {},
   "outputs": [
    {
     "output_type": "execute_result",
     "data": {
      "text/plain": [
       "[<matplotlib.lines.Line2D at 0x21c20355ee0>]"
      ]
     },
     "metadata": {},
     "execution_count": 46
    },
    {
     "output_type": "display_data",
     "data": {
      "text/plain": "<Figure size 432x288 with 1 Axes>",
      "image/svg+xml": "<?xml version=\"1.0\" encoding=\"utf-8\" standalone=\"no\"?>\r\n<!DOCTYPE svg PUBLIC \"-//W3C//DTD SVG 1.1//EN\"\r\n  \"http://www.w3.org/Graphics/SVG/1.1/DTD/svg11.dtd\">\r\n<!-- Created with matplotlib (https://matplotlib.org/) -->\r\n<svg height=\"248.518125pt\" version=\"1.1\" viewBox=\"0 0 378.465625 248.518125\" width=\"378.465625pt\" xmlns=\"http://www.w3.org/2000/svg\" xmlns:xlink=\"http://www.w3.org/1999/xlink\">\r\n <metadata>\r\n  <rdf:RDF xmlns:cc=\"http://creativecommons.org/ns#\" xmlns:dc=\"http://purl.org/dc/elements/1.1/\" xmlns:rdf=\"http://www.w3.org/1999/02/22-rdf-syntax-ns#\">\r\n   <cc:Work>\r\n    <dc:type rdf:resource=\"http://purl.org/dc/dcmitype/StillImage\"/>\r\n    <dc:date>2021-05-23T23:58:41.533297</dc:date>\r\n    <dc:format>image/svg+xml</dc:format>\r\n    <dc:creator>\r\n     <cc:Agent>\r\n      <dc:title>Matplotlib v3.3.2, https://matplotlib.org/</dc:title>\r\n     </cc:Agent>\r\n    </dc:creator>\r\n   </cc:Work>\r\n  </rdf:RDF>\r\n </metadata>\r\n <defs>\r\n  <style type=\"text/css\">*{stroke-linecap:butt;stroke-linejoin:round;}</style>\r\n </defs>\r\n <g id=\"figure_1\">\r\n  <g id=\"patch_1\">\r\n   <path d=\"M 0 248.518125 \r\nL 378.465625 248.518125 \r\nL 378.465625 0 \r\nL 0 0 \r\nz\r\n\" style=\"fill:none;\"/>\r\n  </g>\r\n  <g id=\"axes_1\">\r\n   <g id=\"patch_2\">\r\n    <path d=\"M 36.465625 224.64 \r\nL 371.265625 224.64 \r\nL 371.265625 7.2 \r\nL 36.465625 7.2 \r\nz\r\n\" style=\"fill:#ffffff;\"/>\r\n   </g>\r\n   <g id=\"matplotlib.axis_1\">\r\n    <g id=\"xtick_1\">\r\n     <g id=\"line2d_1\">\r\n      <defs>\r\n       <path d=\"M 0 0 \r\nL 0 3.5 \r\n\" id=\"me71f0a34f3\" style=\"stroke:#000000;stroke-width:0.8;\"/>\r\n      </defs>\r\n      <g>\r\n       <use style=\"stroke:#000000;stroke-width:0.8;\" x=\"51.683807\" xlink:href=\"#me71f0a34f3\" y=\"224.64\"/>\r\n      </g>\r\n     </g>\r\n     <g id=\"text_1\">\r\n      <!-- 0.0 -->\r\n      <g transform=\"translate(43.732244 239.238437)scale(0.1 -0.1)\">\r\n       <defs>\r\n        <path d=\"M 31.78125 66.40625 \r\nQ 24.171875 66.40625 20.328125 58.90625 \r\nQ 16.5 51.421875 16.5 36.375 \r\nQ 16.5 21.390625 20.328125 13.890625 \r\nQ 24.171875 6.390625 31.78125 6.390625 \r\nQ 39.453125 6.390625 43.28125 13.890625 \r\nQ 47.125 21.390625 47.125 36.375 \r\nQ 47.125 51.421875 43.28125 58.90625 \r\nQ 39.453125 66.40625 31.78125 66.40625 \r\nz\r\nM 31.78125 74.21875 \r\nQ 44.046875 74.21875 50.515625 64.515625 \r\nQ 56.984375 54.828125 56.984375 36.375 \r\nQ 56.984375 17.96875 50.515625 8.265625 \r\nQ 44.046875 -1.421875 31.78125 -1.421875 \r\nQ 19.53125 -1.421875 13.0625 8.265625 \r\nQ 6.59375 17.96875 6.59375 36.375 \r\nQ 6.59375 54.828125 13.0625 64.515625 \r\nQ 19.53125 74.21875 31.78125 74.21875 \r\nz\r\n\" id=\"DejaVuSans-48\"/>\r\n        <path d=\"M 10.6875 12.40625 \r\nL 21 12.40625 \r\nL 21 0 \r\nL 10.6875 0 \r\nz\r\n\" id=\"DejaVuSans-46\"/>\r\n       </defs>\r\n       <use xlink:href=\"#DejaVuSans-48\"/>\r\n       <use x=\"63.623047\" xlink:href=\"#DejaVuSans-46\"/>\r\n       <use x=\"95.410156\" xlink:href=\"#DejaVuSans-48\"/>\r\n      </g>\r\n     </g>\r\n    </g>\r\n    <g id=\"xtick_2\">\r\n     <g id=\"line2d_2\">\r\n      <g>\r\n       <use style=\"stroke:#000000;stroke-width:0.8;\" x=\"112.556534\" xlink:href=\"#me71f0a34f3\" y=\"224.64\"/>\r\n      </g>\r\n     </g>\r\n     <g id=\"text_2\">\r\n      <!-- 0.2 -->\r\n      <g transform=\"translate(104.604972 239.238437)scale(0.1 -0.1)\">\r\n       <defs>\r\n        <path d=\"M 19.1875 8.296875 \r\nL 53.609375 8.296875 \r\nL 53.609375 0 \r\nL 7.328125 0 \r\nL 7.328125 8.296875 \r\nQ 12.9375 14.109375 22.625 23.890625 \r\nQ 32.328125 33.6875 34.8125 36.53125 \r\nQ 39.546875 41.84375 41.421875 45.53125 \r\nQ 43.3125 49.21875 43.3125 52.78125 \r\nQ 43.3125 58.59375 39.234375 62.25 \r\nQ 35.15625 65.921875 28.609375 65.921875 \r\nQ 23.96875 65.921875 18.8125 64.3125 \r\nQ 13.671875 62.703125 7.8125 59.421875 \r\nL 7.8125 69.390625 \r\nQ 13.765625 71.78125 18.9375 73 \r\nQ 24.125 74.21875 28.421875 74.21875 \r\nQ 39.75 74.21875 46.484375 68.546875 \r\nQ 53.21875 62.890625 53.21875 53.421875 \r\nQ 53.21875 48.921875 51.53125 44.890625 \r\nQ 49.859375 40.875 45.40625 35.40625 \r\nQ 44.1875 33.984375 37.640625 27.21875 \r\nQ 31.109375 20.453125 19.1875 8.296875 \r\nz\r\n\" id=\"DejaVuSans-50\"/>\r\n       </defs>\r\n       <use xlink:href=\"#DejaVuSans-48\"/>\r\n       <use x=\"63.623047\" xlink:href=\"#DejaVuSans-46\"/>\r\n       <use x=\"95.410156\" xlink:href=\"#DejaVuSans-50\"/>\r\n      </g>\r\n     </g>\r\n    </g>\r\n    <g id=\"xtick_3\">\r\n     <g id=\"line2d_3\">\r\n      <g>\r\n       <use style=\"stroke:#000000;stroke-width:0.8;\" x=\"173.429261\" xlink:href=\"#me71f0a34f3\" y=\"224.64\"/>\r\n      </g>\r\n     </g>\r\n     <g id=\"text_3\">\r\n      <!-- 0.4 -->\r\n      <g transform=\"translate(165.477699 239.238437)scale(0.1 -0.1)\">\r\n       <defs>\r\n        <path d=\"M 37.796875 64.3125 \r\nL 12.890625 25.390625 \r\nL 37.796875 25.390625 \r\nz\r\nM 35.203125 72.90625 \r\nL 47.609375 72.90625 \r\nL 47.609375 25.390625 \r\nL 58.015625 25.390625 \r\nL 58.015625 17.1875 \r\nL 47.609375 17.1875 \r\nL 47.609375 0 \r\nL 37.796875 0 \r\nL 37.796875 17.1875 \r\nL 4.890625 17.1875 \r\nL 4.890625 26.703125 \r\nz\r\n\" id=\"DejaVuSans-52\"/>\r\n       </defs>\r\n       <use xlink:href=\"#DejaVuSans-48\"/>\r\n       <use x=\"63.623047\" xlink:href=\"#DejaVuSans-46\"/>\r\n       <use x=\"95.410156\" xlink:href=\"#DejaVuSans-52\"/>\r\n      </g>\r\n     </g>\r\n    </g>\r\n    <g id=\"xtick_4\">\r\n     <g id=\"line2d_4\">\r\n      <g>\r\n       <use style=\"stroke:#000000;stroke-width:0.8;\" x=\"234.301989\" xlink:href=\"#me71f0a34f3\" y=\"224.64\"/>\r\n      </g>\r\n     </g>\r\n     <g id=\"text_4\">\r\n      <!-- 0.6 -->\r\n      <g transform=\"translate(226.350426 239.238437)scale(0.1 -0.1)\">\r\n       <defs>\r\n        <path d=\"M 33.015625 40.375 \r\nQ 26.375 40.375 22.484375 35.828125 \r\nQ 18.609375 31.296875 18.609375 23.390625 \r\nQ 18.609375 15.53125 22.484375 10.953125 \r\nQ 26.375 6.390625 33.015625 6.390625 \r\nQ 39.65625 6.390625 43.53125 10.953125 \r\nQ 47.40625 15.53125 47.40625 23.390625 \r\nQ 47.40625 31.296875 43.53125 35.828125 \r\nQ 39.65625 40.375 33.015625 40.375 \r\nz\r\nM 52.59375 71.296875 \r\nL 52.59375 62.3125 \r\nQ 48.875 64.0625 45.09375 64.984375 \r\nQ 41.3125 65.921875 37.59375 65.921875 \r\nQ 27.828125 65.921875 22.671875 59.328125 \r\nQ 17.53125 52.734375 16.796875 39.40625 \r\nQ 19.671875 43.65625 24.015625 45.921875 \r\nQ 28.375 48.1875 33.59375 48.1875 \r\nQ 44.578125 48.1875 50.953125 41.515625 \r\nQ 57.328125 34.859375 57.328125 23.390625 \r\nQ 57.328125 12.15625 50.6875 5.359375 \r\nQ 44.046875 -1.421875 33.015625 -1.421875 \r\nQ 20.359375 -1.421875 13.671875 8.265625 \r\nQ 6.984375 17.96875 6.984375 36.375 \r\nQ 6.984375 53.65625 15.1875 63.9375 \r\nQ 23.390625 74.21875 37.203125 74.21875 \r\nQ 40.921875 74.21875 44.703125 73.484375 \r\nQ 48.484375 72.75 52.59375 71.296875 \r\nz\r\n\" id=\"DejaVuSans-54\"/>\r\n       </defs>\r\n       <use xlink:href=\"#DejaVuSans-48\"/>\r\n       <use x=\"63.623047\" xlink:href=\"#DejaVuSans-46\"/>\r\n       <use x=\"95.410156\" xlink:href=\"#DejaVuSans-54\"/>\r\n      </g>\r\n     </g>\r\n    </g>\r\n    <g id=\"xtick_5\">\r\n     <g id=\"line2d_5\">\r\n      <g>\r\n       <use style=\"stroke:#000000;stroke-width:0.8;\" x=\"295.174716\" xlink:href=\"#me71f0a34f3\" y=\"224.64\"/>\r\n      </g>\r\n     </g>\r\n     <g id=\"text_5\">\r\n      <!-- 0.8 -->\r\n      <g transform=\"translate(287.223153 239.238437)scale(0.1 -0.1)\">\r\n       <defs>\r\n        <path d=\"M 31.78125 34.625 \r\nQ 24.75 34.625 20.71875 30.859375 \r\nQ 16.703125 27.09375 16.703125 20.515625 \r\nQ 16.703125 13.921875 20.71875 10.15625 \r\nQ 24.75 6.390625 31.78125 6.390625 \r\nQ 38.8125 6.390625 42.859375 10.171875 \r\nQ 46.921875 13.96875 46.921875 20.515625 \r\nQ 46.921875 27.09375 42.890625 30.859375 \r\nQ 38.875 34.625 31.78125 34.625 \r\nz\r\nM 21.921875 38.8125 \r\nQ 15.578125 40.375 12.03125 44.71875 \r\nQ 8.5 49.078125 8.5 55.328125 \r\nQ 8.5 64.0625 14.71875 69.140625 \r\nQ 20.953125 74.21875 31.78125 74.21875 \r\nQ 42.671875 74.21875 48.875 69.140625 \r\nQ 55.078125 64.0625 55.078125 55.328125 \r\nQ 55.078125 49.078125 51.53125 44.71875 \r\nQ 48 40.375 41.703125 38.8125 \r\nQ 48.828125 37.15625 52.796875 32.3125 \r\nQ 56.78125 27.484375 56.78125 20.515625 \r\nQ 56.78125 9.90625 50.3125 4.234375 \r\nQ 43.84375 -1.421875 31.78125 -1.421875 \r\nQ 19.734375 -1.421875 13.25 4.234375 \r\nQ 6.78125 9.90625 6.78125 20.515625 \r\nQ 6.78125 27.484375 10.78125 32.3125 \r\nQ 14.796875 37.15625 21.921875 38.8125 \r\nz\r\nM 18.3125 54.390625 \r\nQ 18.3125 48.734375 21.84375 45.5625 \r\nQ 25.390625 42.390625 31.78125 42.390625 \r\nQ 38.140625 42.390625 41.71875 45.5625 \r\nQ 45.3125 48.734375 45.3125 54.390625 \r\nQ 45.3125 60.0625 41.71875 63.234375 \r\nQ 38.140625 66.40625 31.78125 66.40625 \r\nQ 25.390625 66.40625 21.84375 63.234375 \r\nQ 18.3125 60.0625 18.3125 54.390625 \r\nz\r\n\" id=\"DejaVuSans-56\"/>\r\n       </defs>\r\n       <use xlink:href=\"#DejaVuSans-48\"/>\r\n       <use x=\"63.623047\" xlink:href=\"#DejaVuSans-46\"/>\r\n       <use x=\"95.410156\" xlink:href=\"#DejaVuSans-56\"/>\r\n      </g>\r\n     </g>\r\n    </g>\r\n    <g id=\"xtick_6\">\r\n     <g id=\"line2d_6\">\r\n      <g>\r\n       <use style=\"stroke:#000000;stroke-width:0.8;\" x=\"356.047443\" xlink:href=\"#me71f0a34f3\" y=\"224.64\"/>\r\n      </g>\r\n     </g>\r\n     <g id=\"text_6\">\r\n      <!-- 1.0 -->\r\n      <g transform=\"translate(348.095881 239.238437)scale(0.1 -0.1)\">\r\n       <defs>\r\n        <path d=\"M 12.40625 8.296875 \r\nL 28.515625 8.296875 \r\nL 28.515625 63.921875 \r\nL 10.984375 60.40625 \r\nL 10.984375 69.390625 \r\nL 28.421875 72.90625 \r\nL 38.28125 72.90625 \r\nL 38.28125 8.296875 \r\nL 54.390625 8.296875 \r\nL 54.390625 0 \r\nL 12.40625 0 \r\nz\r\n\" id=\"DejaVuSans-49\"/>\r\n       </defs>\r\n       <use xlink:href=\"#DejaVuSans-49\"/>\r\n       <use x=\"63.623047\" xlink:href=\"#DejaVuSans-46\"/>\r\n       <use x=\"95.410156\" xlink:href=\"#DejaVuSans-48\"/>\r\n      </g>\r\n     </g>\r\n    </g>\r\n   </g>\r\n   <g id=\"matplotlib.axis_2\">\r\n    <g id=\"ytick_1\">\r\n     <g id=\"line2d_7\">\r\n      <defs>\r\n       <path d=\"M 0 0 \r\nL -3.5 0 \r\n\" id=\"m8e374a625e\" style=\"stroke:#000000;stroke-width:0.8;\"/>\r\n      </defs>\r\n      <g>\r\n       <use style=\"stroke:#000000;stroke-width:0.8;\" x=\"36.465625\" xlink:href=\"#m8e374a625e\" y=\"202.843359\"/>\r\n      </g>\r\n     </g>\r\n     <g id=\"text_7\">\r\n      <!-- 0.65 -->\r\n      <g transform=\"translate(7.2 206.642577)scale(0.1 -0.1)\">\r\n       <defs>\r\n        <path d=\"M 10.796875 72.90625 \r\nL 49.515625 72.90625 \r\nL 49.515625 64.59375 \r\nL 19.828125 64.59375 \r\nL 19.828125 46.734375 \r\nQ 21.96875 47.46875 24.109375 47.828125 \r\nQ 26.265625 48.1875 28.421875 48.1875 \r\nQ 40.625 48.1875 47.75 41.5 \r\nQ 54.890625 34.8125 54.890625 23.390625 \r\nQ 54.890625 11.625 47.5625 5.09375 \r\nQ 40.234375 -1.421875 26.90625 -1.421875 \r\nQ 22.3125 -1.421875 17.546875 -0.640625 \r\nQ 12.796875 0.140625 7.71875 1.703125 \r\nL 7.71875 11.625 \r\nQ 12.109375 9.234375 16.796875 8.0625 \r\nQ 21.484375 6.890625 26.703125 6.890625 \r\nQ 35.15625 6.890625 40.078125 11.328125 \r\nQ 45.015625 15.765625 45.015625 23.390625 \r\nQ 45.015625 31 40.078125 35.4375 \r\nQ 35.15625 39.890625 26.703125 39.890625 \r\nQ 22.75 39.890625 18.8125 39.015625 \r\nQ 14.890625 38.140625 10.796875 36.28125 \r\nz\r\n\" id=\"DejaVuSans-53\"/>\r\n       </defs>\r\n       <use xlink:href=\"#DejaVuSans-48\"/>\r\n       <use x=\"63.623047\" xlink:href=\"#DejaVuSans-46\"/>\r\n       <use x=\"95.410156\" xlink:href=\"#DejaVuSans-54\"/>\r\n       <use x=\"159.033203\" xlink:href=\"#DejaVuSans-53\"/>\r\n      </g>\r\n     </g>\r\n    </g>\r\n    <g id=\"ytick_2\">\r\n     <g id=\"line2d_8\">\r\n      <g>\r\n       <use style=\"stroke:#000000;stroke-width:0.8;\" x=\"36.465625\" xlink:href=\"#m8e374a625e\" y=\"176.306255\"/>\r\n      </g>\r\n     </g>\r\n     <g id=\"text_8\">\r\n      <!-- 0.70 -->\r\n      <g transform=\"translate(7.2 180.105474)scale(0.1 -0.1)\">\r\n       <defs>\r\n        <path d=\"M 8.203125 72.90625 \r\nL 55.078125 72.90625 \r\nL 55.078125 68.703125 \r\nL 28.609375 0 \r\nL 18.3125 0 \r\nL 43.21875 64.59375 \r\nL 8.203125 64.59375 \r\nz\r\n\" id=\"DejaVuSans-55\"/>\r\n       </defs>\r\n       <use xlink:href=\"#DejaVuSans-48\"/>\r\n       <use x=\"63.623047\" xlink:href=\"#DejaVuSans-46\"/>\r\n       <use x=\"95.410156\" xlink:href=\"#DejaVuSans-55\"/>\r\n       <use x=\"159.033203\" xlink:href=\"#DejaVuSans-48\"/>\r\n      </g>\r\n     </g>\r\n    </g>\r\n    <g id=\"ytick_3\">\r\n     <g id=\"line2d_9\">\r\n      <g>\r\n       <use style=\"stroke:#000000;stroke-width:0.8;\" x=\"36.465625\" xlink:href=\"#m8e374a625e\" y=\"149.769152\"/>\r\n      </g>\r\n     </g>\r\n     <g id=\"text_9\">\r\n      <!-- 0.75 -->\r\n      <g transform=\"translate(7.2 153.568371)scale(0.1 -0.1)\">\r\n       <use xlink:href=\"#DejaVuSans-48\"/>\r\n       <use x=\"63.623047\" xlink:href=\"#DejaVuSans-46\"/>\r\n       <use x=\"95.410156\" xlink:href=\"#DejaVuSans-55\"/>\r\n       <use x=\"159.033203\" xlink:href=\"#DejaVuSans-53\"/>\r\n      </g>\r\n     </g>\r\n    </g>\r\n    <g id=\"ytick_4\">\r\n     <g id=\"line2d_10\">\r\n      <g>\r\n       <use style=\"stroke:#000000;stroke-width:0.8;\" x=\"36.465625\" xlink:href=\"#m8e374a625e\" y=\"123.232049\"/>\r\n      </g>\r\n     </g>\r\n     <g id=\"text_10\">\r\n      <!-- 0.80 -->\r\n      <g transform=\"translate(7.2 127.031268)scale(0.1 -0.1)\">\r\n       <use xlink:href=\"#DejaVuSans-48\"/>\r\n       <use x=\"63.623047\" xlink:href=\"#DejaVuSans-46\"/>\r\n       <use x=\"95.410156\" xlink:href=\"#DejaVuSans-56\"/>\r\n       <use x=\"159.033203\" xlink:href=\"#DejaVuSans-48\"/>\r\n      </g>\r\n     </g>\r\n    </g>\r\n    <g id=\"ytick_5\">\r\n     <g id=\"line2d_11\">\r\n      <g>\r\n       <use style=\"stroke:#000000;stroke-width:0.8;\" x=\"36.465625\" xlink:href=\"#m8e374a625e\" y=\"96.694946\"/>\r\n      </g>\r\n     </g>\r\n     <g id=\"text_11\">\r\n      <!-- 0.85 -->\r\n      <g transform=\"translate(7.2 100.494165)scale(0.1 -0.1)\">\r\n       <use xlink:href=\"#DejaVuSans-48\"/>\r\n       <use x=\"63.623047\" xlink:href=\"#DejaVuSans-46\"/>\r\n       <use x=\"95.410156\" xlink:href=\"#DejaVuSans-56\"/>\r\n       <use x=\"159.033203\" xlink:href=\"#DejaVuSans-53\"/>\r\n      </g>\r\n     </g>\r\n    </g>\r\n    <g id=\"ytick_6\">\r\n     <g id=\"line2d_12\">\r\n      <g>\r\n       <use style=\"stroke:#000000;stroke-width:0.8;\" x=\"36.465625\" xlink:href=\"#m8e374a625e\" y=\"70.157843\"/>\r\n      </g>\r\n     </g>\r\n     <g id=\"text_12\">\r\n      <!-- 0.90 -->\r\n      <g transform=\"translate(7.2 73.957061)scale(0.1 -0.1)\">\r\n       <defs>\r\n        <path d=\"M 10.984375 1.515625 \r\nL 10.984375 10.5 \r\nQ 14.703125 8.734375 18.5 7.8125 \r\nQ 22.3125 6.890625 25.984375 6.890625 \r\nQ 35.75 6.890625 40.890625 13.453125 \r\nQ 46.046875 20.015625 46.78125 33.40625 \r\nQ 43.953125 29.203125 39.59375 26.953125 \r\nQ 35.25 24.703125 29.984375 24.703125 \r\nQ 19.046875 24.703125 12.671875 31.3125 \r\nQ 6.296875 37.9375 6.296875 49.421875 \r\nQ 6.296875 60.640625 12.9375 67.421875 \r\nQ 19.578125 74.21875 30.609375 74.21875 \r\nQ 43.265625 74.21875 49.921875 64.515625 \r\nQ 56.59375 54.828125 56.59375 36.375 \r\nQ 56.59375 19.140625 48.40625 8.859375 \r\nQ 40.234375 -1.421875 26.421875 -1.421875 \r\nQ 22.703125 -1.421875 18.890625 -0.6875 \r\nQ 15.09375 0.046875 10.984375 1.515625 \r\nz\r\nM 30.609375 32.421875 \r\nQ 37.25 32.421875 41.125 36.953125 \r\nQ 45.015625 41.5 45.015625 49.421875 \r\nQ 45.015625 57.28125 41.125 61.84375 \r\nQ 37.25 66.40625 30.609375 66.40625 \r\nQ 23.96875 66.40625 20.09375 61.84375 \r\nQ 16.21875 57.28125 16.21875 49.421875 \r\nQ 16.21875 41.5 20.09375 36.953125 \r\nQ 23.96875 32.421875 30.609375 32.421875 \r\nz\r\n\" id=\"DejaVuSans-57\"/>\r\n       </defs>\r\n       <use xlink:href=\"#DejaVuSans-48\"/>\r\n       <use x=\"63.623047\" xlink:href=\"#DejaVuSans-46\"/>\r\n       <use x=\"95.410156\" xlink:href=\"#DejaVuSans-57\"/>\r\n       <use x=\"159.033203\" xlink:href=\"#DejaVuSans-48\"/>\r\n      </g>\r\n     </g>\r\n    </g>\r\n    <g id=\"ytick_7\">\r\n     <g id=\"line2d_13\">\r\n      <g>\r\n       <use style=\"stroke:#000000;stroke-width:0.8;\" x=\"36.465625\" xlink:href=\"#m8e374a625e\" y=\"43.62074\"/>\r\n      </g>\r\n     </g>\r\n     <g id=\"text_13\">\r\n      <!-- 0.95 -->\r\n      <g transform=\"translate(7.2 47.419958)scale(0.1 -0.1)\">\r\n       <use xlink:href=\"#DejaVuSans-48\"/>\r\n       <use x=\"63.623047\" xlink:href=\"#DejaVuSans-46\"/>\r\n       <use x=\"95.410156\" xlink:href=\"#DejaVuSans-57\"/>\r\n       <use x=\"159.033203\" xlink:href=\"#DejaVuSans-53\"/>\r\n      </g>\r\n     </g>\r\n    </g>\r\n    <g id=\"ytick_8\">\r\n     <g id=\"line2d_14\">\r\n      <g>\r\n       <use style=\"stroke:#000000;stroke-width:0.8;\" x=\"36.465625\" xlink:href=\"#m8e374a625e\" y=\"17.083636\"/>\r\n      </g>\r\n     </g>\r\n     <g id=\"text_14\">\r\n      <!-- 1.00 -->\r\n      <g transform=\"translate(7.2 20.882855)scale(0.1 -0.1)\">\r\n       <use xlink:href=\"#DejaVuSans-49\"/>\r\n       <use x=\"63.623047\" xlink:href=\"#DejaVuSans-46\"/>\r\n       <use x=\"95.410156\" xlink:href=\"#DejaVuSans-48\"/>\r\n       <use x=\"159.033203\" xlink:href=\"#DejaVuSans-48\"/>\r\n      </g>\r\n     </g>\r\n    </g>\r\n   </g>\r\n   <g id=\"line2d_15\">\r\n    <path clip-path=\"url(#pfb0dfb1fbc)\" d=\"M 51.683807 23.541795 \r\nL 52.474362 32.895953 \r\nL 53.264917 24.877475 \r\nL 54.055472 96.965726 \r\nL 54.846026 28.347169 \r\nL 55.636581 27.515366 \r\nL 56.427136 143.577515 \r\nL 57.217691 30.568019 \r\nL 58.008246 22.28555 \r\nL 58.798801 33.002878 \r\nL 59.589356 32.895953 \r\nL 61.961021 21.099123 \r\nL 62.751575 20.708719 \r\nL 63.54213 25.612381 \r\nL 64.332685 29.609488 \r\nL 65.12324 32.194959 \r\nL 65.913795 23.685069 \r\nL 66.70435 47.352058 \r\nL 67.494905 45.748938 \r\nL 68.28546 205.740919 \r\nL 69.076015 22.402535 \r\nL 69.86657 44.560644 \r\nL 70.657124 21.124019 \r\nL 71.447679 37.638341 \r\nL 72.238234 37.792845 \r\nL 73.028789 22.1226 \r\nL 73.819344 30.040542 \r\nL 74.609899 31.461636 \r\nL 75.400454 18.353738 \r\nL 76.191009 24.78042 \r\nL 76.981564 33.137547 \r\nL 77.772119 27.013956 \r\nL 78.562673 171.389408 \r\nL 79.353228 29.341985 \r\nL 80.143783 42.72115 \r\nL 80.934338 29.893978 \r\nL 81.724893 22.121429 \r\nL 82.515448 41.856859 \r\nL 83.306003 143.577515 \r\nL 84.096558 78.72975 \r\nL 84.887113 97.18932 \r\nL 85.677668 47.875137 \r\nL 86.468222 30.775827 \r\nL 87.258777 30.947445 \r\nL 88.049332 44.228986 \r\nL 88.839887 95.355394 \r\nL 89.630442 48.507641 \r\nL 90.420997 45.896799 \r\nL 91.211552 29.567319 \r\nL 92.002107 17.410043 \r\nL 92.792662 45.308045 \r\nL 93.583216 209.789211 \r\nL 94.373771 21.13449 \r\nL 95.164326 107.761887 \r\nL 95.954881 28.957433 \r\nL 96.745436 196.981273 \r\nL 97.535991 21.110606 \r\nL 98.326546 29.370013 \r\nL 99.117101 33.002878 \r\nL 99.907656 169.909442 \r\nL 100.698211 45.62028 \r\nL 101.488765 172.335538 \r\nL 102.27932 20.871638 \r\nL 103.069875 27.311797 \r\nL 103.86043 35.420306 \r\nL 104.650985 23.430884 \r\nL 105.44154 45.816478 \r\nL 106.232095 25.374994 \r\nL 107.02265 24.190085 \r\nL 107.813205 25.034384 \r\nL 108.60376 22.639384 \r\nL 109.394314 24.2401 \r\nL 110.184869 19.660282 \r\nL 110.975424 45.308045 \r\nL 111.765979 165.722433 \r\nL 112.556534 27.311797 \r\nL 113.347089 174.829966 \r\nL 114.137644 19.265101 \r\nL 114.928199 159.447881 \r\nL 115.718754 27.362317 \r\nL 116.509309 30.432749 \r\nL 117.299863 145.784731 \r\nL 118.090418 32.346584 \r\nL 118.880973 18.091897 \r\nL 119.671528 39.482549 \r\nL 120.462083 97.18932 \r\nL 121.252638 30.775827 \r\nL 122.043193 29.648873 \r\nL 122.833748 97.18932 \r\nL 123.624303 30.401747 \r\nL 124.414858 22.28555 \r\nL 125.205412 28.06369 \r\nL 125.995967 38.350501 \r\nL 126.786522 33.137547 \r\nL 127.577077 27.031671 \r\nL 128.367632 45.76311 \r\nL 129.158187 25.612381 \r\nL 129.948742 23.863995 \r\nL 130.739297 28.939433 \r\nL 131.529852 20.211548 \r\nL 132.320407 36.134997 \r\nL 133.110961 17.418838 \r\nL 133.901516 30.140761 \r\nL 134.692071 32.093602 \r\nL 135.482626 38.322504 \r\nL 136.273181 23.430884 \r\nL 137.063736 153.252448 \r\nL 137.854291 31.743754 \r\nL 138.644846 30.852604 \r\nL 139.435401 20.053185 \r\nL 140.225956 71.198257 \r\nL 141.01651 29.576018 \r\nL 141.807065 39.325356 \r\nL 142.59762 153.252448 \r\nL 143.388175 17.54544 \r\nL 144.17873 164.568494 \r\nL 144.969285 31.561791 \r\nL 145.75984 20.873251 \r\nL 146.550395 29.341985 \r\nL 147.34095 26.000697 \r\nL 148.131505 21.646087 \r\nL 148.922059 23.946087 \r\nL 149.712614 28.235909 \r\nL 150.503169 93.023854 \r\nL 151.293724 17.54544 \r\nL 152.084279 50.642509 \r\nL 152.874834 45.801357 \r\nL 153.665389 28.10143 \r\nL 154.455944 25.951062 \r\nL 156.037054 28.957433 \r\nL 156.827608 17.681152 \r\nL 157.618163 162.839531 \r\nL 158.408718 176.403285 \r\nL 159.199273 29.063916 \r\nL 159.989828 20.667657 \r\nL 160.780383 205.740919 \r\nL 161.570938 151.368286 \r\nL 162.361493 45.785002 \r\nL 163.152048 29.576018 \r\nL 163.942603 45.748938 \r\nL 164.733157 24.519118 \r\nL 165.523712 34.005476 \r\nL 166.314267 197.210625 \r\nL 167.104822 41.856859 \r\nL 167.895377 59.894296 \r\nL 168.685932 17.78792 \r\nL 169.476487 23.084579 \r\nL 170.267042 23.578618 \r\nL 171.057597 19.134703 \r\nL 171.848152 24.113403 \r\nL 172.638706 23.946087 \r\nL 173.429261 27.551398 \r\nL 174.219816 24.503996 \r\nL 175.010371 19.265101 \r\nL 175.800926 28.06369 \r\nL 176.591481 32.878459 \r\nL 177.382036 19.163617 \r\nL 178.172591 28.235909 \r\nL 178.963146 28.415278 \r\nL 179.753701 24.327949 \r\nL 180.544255 107.761887 \r\nL 181.33481 28.235909 \r\nL 182.125365 33.764863 \r\nL 182.91592 33.581603 \r\nL 183.706475 167.841577 \r\nL 184.49703 37.792845 \r\nL 185.287585 23.541795 \r\nL 186.07814 32.895953 \r\nL 186.868695 29.576018 \r\nL 187.65925 60.408423 \r\nL 188.449804 26.890043 \r\nL 189.240359 21.629731 \r\nL 190.030914 45.896799 \r\nL 191.612024 22.121429 \r\nL 192.402579 22.121429 \r\nL 193.193134 30.261289 \r\nL 193.983689 29.984485 \r\nL 194.774244 44.878731 \r\nL 195.564799 29.063916 \r\nL 196.355353 33.697291 \r\nL 197.145908 22.919857 \r\nL 197.936463 44.238255 \r\nL 198.727018 43.159006 \r\nL 199.517573 17.418838 \r\nL 200.308128 180.579887 \r\nL 201.098683 30.947445 \r\nL 201.889238 17.083636 \r\nL 203.470348 44.228986 \r\nL 204.260902 162.839531 \r\nL 205.051457 20.211548 \r\nL 205.842012 42.029394 \r\nL 206.632567 27.013956 \r\nL 207.423122 24.171737 \r\nL 208.213677 18.175413 \r\nL 209.004232 37.638341 \r\nL 209.794787 24.190085 \r\nL 210.585342 27.362317 \r\nL 211.375897 42.123887 \r\nL 212.166451 26.000697 \r\nL 212.957006 93.048908 \r\nL 213.747561 42.499296 \r\nL 214.538116 25.732719 \r\nL 215.328671 29.116682 \r\nL 216.119226 21.180139 \r\nL 216.909781 22.961362 \r\nL 217.700336 34.644908 \r\nL 218.490891 34.644908 \r\nL 219.281446 20.871638 \r\nL 220.072 31.242122 \r\nL 220.862555 29.248378 \r\nL 221.65311 32.194959 \r\nL 222.443665 27.362317 \r\nL 223.23422 48.475279 \r\nL 224.024775 24.706617 \r\nL 224.81533 24.877475 \r\nL 225.605885 76.738536 \r\nL 226.39644 23.578618 \r\nL 227.186995 28.78224 \r\nL 227.977549 127.316619 \r\nL 228.768104 59.894296 \r\nL 229.558659 50.642509 \r\nL 230.349214 22.875664 \r\nL 231.139769 156.800785 \r\nL 231.930324 123.079785 \r\nL 232.720879 26.132076 \r\nL 233.511434 29.89613 \r\nL 234.301989 26.378542 \r\nL 235.092544 21.124019 \r\nL 236.673653 37.638341 \r\nL 237.464208 30.148891 \r\nL 238.254763 43.679491 \r\nL 239.045318 27.727255 \r\nL 239.835873 24.672166 \r\nL 240.626428 17.282018 \r\nL 241.416983 24.520699 \r\nL 242.207538 94.08504 \r\nL 242.998093 24.776909 \r\nL 243.788647 95.355394 \r\nL 244.579202 22.402535 \r\nL 245.369757 30.808348 \r\nL 246.160312 174.829966 \r\nL 246.950867 22.218833 \r\nL 247.741422 22.379379 \r\nL 248.531977 24.190085 \r\nL 249.322532 22.149806 \r\nL 250.113087 23.486182 \r\nL 250.903642 19.134703 \r\nL 251.694196 21.646087 \r\nL 252.484751 20.81963 \r\nL 254.065861 156.800785 \r\nL 254.856416 25.618708 \r\nL 255.646971 18.091897 \r\nL 256.437526 19.621624 \r\nL 257.228081 33.14245 \r\nL 258.018636 27.515366 \r\nL 258.809191 45.801357 \r\nL 259.599745 30.261289 \r\nL 260.3903 31.457903 \r\nL 261.180855 47.875137 \r\nL 261.97141 214.756364 \r\nL 262.761965 17.224347 \r\nL 263.55252 29.063916 \r\nL 264.343075 29.192637 \r\nL 265.13363 94.08504 \r\nL 265.924185 47.626204 \r\nL 266.71474 162.839531 \r\nL 267.505294 20.757088 \r\nL 268.295849 30.772853 \r\nL 269.086404 17.115999 \r\nL 269.876959 24.593364 \r\nL 270.667514 23.863995 \r\nL 271.458069 137.111479 \r\nL 272.248624 29.609488 \r\nL 273.039179 27.883182 \r\nL 273.829734 30.775827 \r\nL 274.620289 31.335128 \r\nL 275.410843 22.149806 \r\nL 276.201398 40.803518 \r\nL 276.991953 30.040542 \r\nL 277.782508 36.561116 \r\nL 278.573063 29.666746 \r\nL 279.363618 30.95972 \r\nL 280.154173 31.466001 \r\nL 280.944728 17.282018 \r\nL 281.735283 38.133392 \r\nL 282.525838 165.722433 \r\nL 283.316392 186.384917 \r\nL 284.106947 18.175413 \r\nL 284.897502 143.577515 \r\nL 285.688057 28.415278 \r\nL 286.478612 40.077565 \r\nL 287.269167 19.945912 \r\nL 288.059722 35.420306 \r\nL 288.850277 28.015605 \r\nL 289.640832 38.894681 \r\nL 290.431387 41.902001 \r\nL 291.221941 26.378542 \r\nL 292.012496 22.379379 \r\nL 292.803051 17.186386 \r\nL 293.593606 33.065483 \r\nL 294.384161 159.909779 \r\nL 295.174716 35.088869 \r\nL 295.965271 28.939433 \r\nL 296.755826 24.543318 \r\nL 297.546381 159.090757 \r\nL 298.336936 28.57304 \r\nL 299.12749 41.486986 \r\nL 299.918045 28.096653 \r\nL 300.7086 22.961362 \r\nL 301.499155 17.083636 \r\nL 302.28971 103.340496 \r\nL 303.080265 43.159006 \r\nL 303.87082 21.13449 \r\nL 304.661375 24.2401 \r\nL 305.45193 27.980301 \r\nL 306.242485 19.068365 \r\nL 307.033039 60.408423 \r\nL 307.823594 28.86487 \r\nL 308.614149 103.340496 \r\nL 309.404704 20.757088 \r\nL 310.195259 28.86487 \r\nL 310.985814 17.224347 \r\nL 311.776369 44.016338 \r\nL 312.566924 79.435678 \r\nL 313.357479 93.429758 \r\nL 314.148034 45.47166 \r\nL 314.938588 19.068365 \r\nL 315.729143 97.874369 \r\nL 316.519698 29.609488 \r\nL 317.310253 23.6162 \r\nL 318.100808 180.579887 \r\nL 318.891363 45.76311 \r\nL 319.681918 24.519118 \r\nL 320.472473 29.151006 \r\nL 321.263028 42.499296 \r\nL 322.053582 26.832753 \r\nL 322.844137 31.335128 \r\nL 323.634692 44.016338 \r\nL 324.425247 27.311797 \r\nL 325.215802 21.099123 \r\nL 326.006357 32.194959 \r\nL 326.796912 45.308045 \r\nL 327.587467 26.890043 \r\nL 328.378022 21.054423 \r\nL 329.168577 24.78042 \r\nL 329.959131 30.148891 \r\nL 330.749686 210.771658 \r\nL 331.540241 89.149521 \r\nL 332.330796 54.283472 \r\nL 333.121351 33.987413 \r\nL 333.911906 23.863995 \r\nL 334.702461 97.874369 \r\nL 335.493016 30.140761 \r\nL 336.283571 54.283472 \r\nL 337.074126 19.621624 \r\nL 337.86468 19.134703 \r\nL 338.655235 22.1226 \r\nL 339.44579 174.829966 \r\nL 340.236345 30.568019 \r\nL 341.0269 197.210625 \r\nL 341.817455 123.079785 \r\nL 343.398565 40.077565 \r\nL 344.18912 28.78224 \r\nL 344.979675 28.096653 \r\nL 345.770229 27.031671 \r\nL 346.560784 46.753213 \r\nL 347.351339 24.2401 \r\nL 348.141894 78.72975 \r\nL 348.932449 93.048908 \r\nL 349.723004 35.088869 \r\nL 350.513559 24.776909 \r\nL 351.304114 20.871638 \r\nL 352.094669 27.551398 \r\nL 352.885224 38.350501 \r\nL 354.466333 17.186386 \r\nL 355.256888 30.140761 \r\nL 356.047443 21.110606 \r\nL 356.047443 21.110606 \r\n\" style=\"fill:none;stroke:#1f77b4;stroke-linecap:square;stroke-width:1.5;\"/>\r\n   </g>\r\n   <g id=\"patch_3\">\r\n    <path d=\"M 36.465625 224.64 \r\nL 36.465625 7.2 \r\n\" style=\"fill:none;stroke:#000000;stroke-linecap:square;stroke-linejoin:miter;stroke-width:0.8;\"/>\r\n   </g>\r\n   <g id=\"patch_4\">\r\n    <path d=\"M 371.265625 224.64 \r\nL 371.265625 7.2 \r\n\" style=\"fill:none;stroke:#000000;stroke-linecap:square;stroke-linejoin:miter;stroke-width:0.8;\"/>\r\n   </g>\r\n   <g id=\"patch_5\">\r\n    <path d=\"M 36.465625 224.64 \r\nL 371.265625 224.64 \r\n\" style=\"fill:none;stroke:#000000;stroke-linecap:square;stroke-linejoin:miter;stroke-width:0.8;\"/>\r\n   </g>\r\n   <g id=\"patch_6\">\r\n    <path d=\"M 36.465625 7.2 \r\nL 371.265625 7.2 \r\n\" style=\"fill:none;stroke:#000000;stroke-linecap:square;stroke-linejoin:miter;stroke-width:0.8;\"/>\r\n   </g>\r\n  </g>\r\n </g>\r\n <defs>\r\n  <clipPath id=\"pfb0dfb1fbc\">\r\n   <rect height=\"217.44\" width=\"334.8\" x=\"36.465625\" y=\"7.2\"/>\r\n  </clipPath>\r\n </defs>\r\n</svg>\r\n",
      "image/png": "[encoded data removed]"
     },
     "metadata": {
      "needs_background": "light"
     }
    }
   ],
   "source": [
    "plt.plot(np.linspace(0,1, len(regularity_scores)), regularity_scores)"
   ]
  },
  {
   "cell_type": "code",
   "execution_count": null,
   "metadata": {},
   "outputs": [],
   "source": []
  }
 ]
}