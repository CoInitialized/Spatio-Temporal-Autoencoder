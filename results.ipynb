{
 "metadata": {
  "language_info": {
   "codemirror_mode": {
    "name": "ipython",
    "version": 3
   },
   "file_extension": ".py",
   "mimetype": "text/x-python",
   "name": "python",
   "nbconvert_exporter": "python",
   "pygments_lexer": "ipython3",
   "version": "3.8.8"
  },
  "orig_nbformat": 2,
  "kernelspec": {
   "name": "python388jvsc74a57bd05bb0378d4ee4c0aff941e0dc4c26640714a7475a262217eccf73e6de1579f1e3",
   "display_name": "Python 3.8.8 64-bit ('base': conda)"
  }
 },
 "nbformat": 4,
 "nbformat_minor": 2,
 "cells": [
  {
   "cell_type": "code",
   "execution_count": 1,
   "metadata": {},
   "outputs": [],
   "source": [
    "import gc\n",
    "from pathlib import Path\n",
    "import numpy as np\n",
    "import pickle\n",
    "import matplotlib.pyplot as plt\n",
    "import torch"
   ]
  },
  {
   "cell_type": "code",
   "execution_count": 11,
   "metadata": {},
   "outputs": [],
   "source": [
    "with open('./output/out_of_threshold_dict.pkl', 'rb') as out_of_threshold_file , open('./output/results_dict.pkl', 'rb') as results_dict_file:\n",
    "    out_of_threshold = pickle.load(out_of_threshold_file)\n",
    "    results_dict = pickle.load(results_dict_file)\n"
   ]
  },
  {
   "cell_type": "code",
   "execution_count": null,
   "metadata": {},
   "outputs": [],
   "source": [
    "results = np.array([results_dict[key][i]  for key in results_dict.keys() for i in range(len(results_dict[key]))])\n",
    "anomalies_x = np.array([i for i in range(len(results)) if results[i] < 0.7])\n",
    "anomalies_y = np.array([results[i] for i in range(len(results)) if results[i] < 0.7])\n",
    "results"
   ]
  },
  {
   "cell_type": "code",
   "execution_count": null,
   "metadata": {},
   "outputs": [],
   "source": [
    "plt.figure(figsize = (12, 5))\n",
    "plt.plot(range(len(results)), results, label = 'Regularity Score')\n",
    "plt.scatter(anomalies_x, anomalies_y, c = 'r', label = 'Anomaly')\n",
    "plt.ylabel('Regularity Score')\n",
    "plt.legend()"
   ]
  }
 ]
}